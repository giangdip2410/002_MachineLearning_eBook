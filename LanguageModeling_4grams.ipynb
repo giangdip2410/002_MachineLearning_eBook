{
  "nbformat": 4,
  "nbformat_minor": 0,
  "metadata": {
    "colab": {
      "name": "LanguageModeling_4grams.ipynb",
      "provenance": [],
      "collapsed_sections": [],
      "include_colab_link": true
    },
    "kernelspec": {
      "name": "python3",
      "display_name": "Python 3"
    }
  },
  "cells": [
    {
      "cell_type": "markdown",
      "metadata": {
        "id": "view-in-github",
        "colab_type": "text"
      },
      "source": [
        "<a href=\"https://colab.research.google.com/github/giangdip2410/002_MachineLearning_eBook/blob/master/LanguageModeling_4grams.ipynb\" target=\"_parent\"><img src=\"https://colab.research.google.com/assets/colab-badge.svg\" alt=\"Open In Colab\"/></a>"
      ]
    },
    {
      "cell_type": "code",
      "metadata": {
        "id": "FFkw9E3JET-Z",
        "colab_type": "code",
        "outputId": "1f1ea13f-22d5-47ea-eeb1-2067043ec9f5",
        "colab": {
          "base_uri": "https://localhost:8080/",
          "height": 84
        }
      },
      "source": [
        "import nltk\n",
        "from nltk.corpus import reuters\n",
        "from nltk import bigrams, trigrams,ngrams\n",
        "from collections import Counter, defaultdict\n",
        "\n",
        "nltk.download('reuters')\n",
        "nltk.download('punkt')\n",
        "# Create a placeholder for model\n",
        "model = defaultdict(lambda: defaultdict(lambda: 0))\n",
        "\n"
      ],
      "execution_count": 3,
      "outputs": [
        {
          "output_type": "stream",
          "text": [
            "[nltk_data] Downloading package reuters to /root/nltk_data...\n",
            "[nltk_data]   Package reuters is already up-to-date!\n",
            "[nltk_data] Downloading package punkt to /root/nltk_data...\n",
            "[nltk_data]   Package punkt is already up-to-date!\n"
          ],
          "name": "stdout"
        }
      ]
    },
    {
      "cell_type": "code",
      "metadata": {
        "id": "AZkZpL7KINZF",
        "colab_type": "code",
        "outputId": "7c804780-bb23-4c37-a006-9d6ccfb04a34",
        "colab": {
          "base_uri": "https://localhost:8080/",
          "height": 202
        }
      },
      "source": [
        "for w1, w2, w3,w4 in ngrams([\"what\", \"is\", \"the\", \"cat\",\"on\", \"the\",\"table\", \"?\"],n=4, pad_right=True, pad_left=True):\n",
        "  print (w1, w2, w3,w4)"
      ],
      "execution_count": 4,
      "outputs": [
        {
          "output_type": "stream",
          "text": [
            "None None None what\n",
            "None None what is\n",
            "None what is the\n",
            "what is the cat\n",
            "is the cat on\n",
            "the cat on the\n",
            "cat on the table\n",
            "on the table ?\n",
            "the table ? None\n",
            "table ? None None\n",
            "? None None None\n"
          ],
          "name": "stdout"
        }
      ]
    },
    {
      "cell_type": "code",
      "metadata": {
        "id": "jQ9jSHTQEfJ9",
        "colab_type": "code",
        "colab": {}
      },
      "source": [
        "# Count frequency of co-occurance  \n",
        "for sentence in reuters.sents():\n",
        "    for w1, w2, w3,w4 in ngrams(sentence,n=4, pad_right=True, pad_left=True):\n",
        "        model[(w1, w2,w3)][w4] += 1\n",
        " \n",
        "# Let's transform the counts to probabilities\n",
        "for w1_w2_w3 in model:\n",
        "    total_count = float(sum(model[w1_w2_w3].values()))\n",
        "    for w4 in model[w1_w2_w3]:\n",
        "        model[w1_w2_w3][w4] /= total_count"
      ],
      "execution_count": 0,
      "outputs": []
    },
    {
      "cell_type": "code",
      "metadata": {
        "id": "HF8ukr7jGagU",
        "colab_type": "code",
        "outputId": "e6c37db3-000f-4ed2-e644-ef53ff413610",
        "colab": {
          "base_uri": "https://localhost:8080/",
          "height": 168
        }
      },
      "source": [
        "import operator\n",
        "sorted_x = sorted(model[\"price\",\"of\",\"oil\"].items(), key=operator.itemgetter(1),  reverse=True)\n",
        "sorted_x"
      ],
      "execution_count": 10,
      "outputs": [
        {
          "output_type": "execute_result",
          "data": {
            "text/plain": [
              "[('as', 0.25),\n",
              " ('gets', 0.16666666666666666),\n",
              " ('would', 0.08333333333333333),\n",
              " ('and', 0.08333333333333333),\n",
              " ('reaches', 0.08333333333333333),\n",
              " (',', 0.08333333333333333),\n",
              " (',\"', 0.08333333333333333),\n",
              " ('will', 0.08333333333333333),\n",
              " ('fall', 0.08333333333333333)]"
            ]
          },
          "metadata": {
            "tags": []
          },
          "execution_count": 10
        }
      ]
    },
    {
      "cell_type": "code",
      "metadata": {
        "id": "XCbPw_HyFUa-",
        "colab_type": "code",
        "colab": {}
      },
      "source": [
        "def genSentence(word1, word2,word3):\n",
        "  max_len = 10\n",
        "  sentence = [word1,word2,word3]\n",
        "  for i in range(max_len):\n",
        "    sorted_x = sorted(model[word1,word2,word3].items(), key=operator.itemgetter(1),  reverse=True)\n",
        "    selected_word = sorted_x[0][0]\n",
        "    if selected_word == None:\n",
        "      break\n",
        "    sentence.append(selected_word)\n",
        "    word1 = word2\n",
        "    word2 = word3\n",
        "    word3 = selected_word\n",
        "\n",
        "  return sentence"
      ],
      "execution_count": 0,
      "outputs": []
    },
    {
      "cell_type": "code",
      "metadata": {
        "id": "rTSwqza_GJEA",
        "colab_type": "code",
        "outputId": "fb3c9712-096b-454b-b6d3-f91764e6f56f",
        "colab": {
          "base_uri": "https://localhost:8080/",
          "height": 34
        }
      },
      "source": [
        "genSentence(\"the\",\"price\",\"of\")"
      ],
      "execution_count": 9,
      "outputs": [
        {
          "output_type": "execute_result",
          "data": {
            "text/plain": [
              "['the', 'price', 'of', 'oil', 'as', 'of', 'Jan', 'one', ',', '1986', '.']"
            ]
          },
          "metadata": {
            "tags": []
          },
          "execution_count": 9
        }
      ]
    }
  ]
}